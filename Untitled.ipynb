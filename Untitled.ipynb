{
 "cells": [
  {
   "cell_type": "code",
   "execution_count": 5,
   "metadata": {
    "collapsed": true
   },
   "outputs": [],
   "source": [
    "import json"
   ]
  },
  {
   "cell_type": "code",
   "execution_count": 2,
   "metadata": {
    "collapsed": false
   },
   "outputs": [],
   "source": [
    "game_ids = set()\n",
    "with open(\"game_ids.txt\", 'r') as file:\n",
    "    game_ids = file.readlines()\n",
    "    game_ids = set([int(x.strip()) for x in game_ids])"
   ]
  },
  {
   "cell_type": "code",
   "execution_count": 3,
   "metadata": {
    "collapsed": false
   },
   "outputs": [
    {
     "data": {
      "text/plain": [
       "761"
      ]
     },
     "execution_count": 3,
     "metadata": {},
     "output_type": "execute_result"
    }
   ],
   "source": [
    "len(game_ids)"
   ]
  },
  {
   "cell_type": "code",
   "execution_count": 30,
   "metadata": {
    "collapsed": false
   },
   "outputs": [],
   "source": [
    "matches_filepath = \"matches.json\"\n",
    "matches = dict()\n",
    "with open(matches_filepath, 'r') as file:\n",
    "    matches = json.load(file)"
   ]
  },
  {
   "cell_type": "code",
   "execution_count": 32,
   "metadata": {
    "collapsed": false
   },
   "outputs": [
    {
     "data": {
      "text/plain": [
       "159"
      ]
     },
     "execution_count": 32,
     "metadata": {},
     "output_type": "execute_result"
    }
   ],
   "source": [
    "len(matches)"
   ]
  },
  {
   "cell_type": "code",
   "execution_count": 34,
   "metadata": {
    "collapsed": false
   },
   "outputs": [],
   "source": [
    "for key,value in matches.items():\n",
    "    if int(key) in game_ids:\n",
    "        game_ids.remove(int(key))"
   ]
  },
  {
   "cell_type": "code",
   "execution_count": 36,
   "metadata": {
    "collapsed": false
   },
   "outputs": [],
   "source": [
    "import time"
   ]
  },
  {
   "cell_type": "code",
   "execution_count": 43,
   "metadata": {
    "collapsed": false
   },
   "outputs": [],
   "source": [
    "s = time.time()"
   ]
  },
  {
   "cell_type": "code",
   "execution_count": 44,
   "metadata": {
    "collapsed": false
   },
   "outputs": [],
   "source": [
    "e = time.time()"
   ]
  },
  {
   "cell_type": "code",
   "execution_count": 45,
   "metadata": {
    "collapsed": false
   },
   "outputs": [
    {
     "data": {
      "text/plain": [
       "-1.7163569927215576"
      ]
     },
     "execution_count": 45,
     "metadata": {},
     "output_type": "execute_result"
    }
   ],
   "source": [
    "e-s"
   ]
  },
  {
   "cell_type": "code",
   "execution_count": 29,
   "metadata": {
    "collapsed": false
   },
   "outputs": [],
   "source": [
    "with open(matches_filepath, 'w') as file:\n",
    "    json.dump(new_matches, file, indent=2)"
   ]
  },
  {
   "cell_type": "code",
   "execution_count": 35,
   "metadata": {
    "collapsed": true
   },
   "outputs": [],
   "source": [
    "with open('bad_game_ids.txt', 'w') as file:\n",
    "\t\tfor id in game_ids:\n",
    "\t\t\tfile.write(str(id) + \"\\n\")"
   ]
  },
  {
   "cell_type": "code",
   "execution_count": 24,
   "metadata": {
    "collapsed": false
   },
   "outputs": [
    {
     "name": "stdout",
     "output_type": "stream",
     "text": [
      "2721779898\n",
      "2731324417\n",
      "2723565267\n",
      "2729765992\n",
      "2731249910\n",
      "2730224340\n",
      "2723520521\n",
      "2729065037\n",
      "2724307103\n",
      "2730399367\n",
      "2728465499\n",
      "2723472900\n",
      "2723477302\n",
      "2730783928\n",
      "2729920112\n",
      "2731284042\n",
      "2731626271\n",
      "2730377945\n",
      "2724157088\n",
      "2729853833\n",
      "2728528585\n",
      "2729087025\n",
      "2730301948\n",
      "2729872275\n",
      "2730744256\n",
      "2730255834\n",
      "2730208407\n",
      "2728846088\n",
      "2723651307\n",
      "2731314495\n",
      "2724096198\n",
      "2730824182\n",
      "2724277388\n",
      "2731362749\n",
      "2728313725\n",
      "2730221698\n",
      "2727644083\n",
      "2730829145\n",
      "2729729339\n",
      "2730348111\n",
      "2730799984\n",
      "2727614859\n",
      "2724209848\n",
      "2723526648\n",
      "2730232468\n",
      "2730967974\n",
      "2724385443\n",
      "2729780551\n",
      "2730759486\n",
      "2730846079\n",
      "2731608990\n",
      "2723623743\n",
      "2728356870\n",
      "2728530517\n",
      "2729799065\n",
      "2728657668\n",
      "2722654852\n",
      "2730107543\n",
      "2729112896\n",
      "2731870954\n",
      "2728683376\n",
      "2730553545\n",
      "2729269837\n",
      "2717567827\n",
      "2729270759\n",
      "2727554977\n",
      "2720181646\n",
      "2731919747\n",
      "2728225683\n",
      "2728704699\n",
      "2730591300\n",
      "2728692102\n",
      "2719887152\n",
      "2729128158\n",
      "2719859020\n",
      "2718859624\n",
      "2720416876\n",
      "2722374722\n",
      "2728687463\n",
      "2723880817\n",
      "2725476741\n",
      "2730971651\n",
      "2722404348\n",
      "2730672630\n",
      "2730605995\n",
      "2728409423\n",
      "2721844893\n",
      "2717441139\n",
      "2731506441\n",
      "2731938193\n",
      "2730642719\n",
      "2730581881\n",
      "2729016110\n",
      "2720589111\n",
      "2731290470\n",
      "2723854413\n",
      "2724205400\n",
      "2717618708\n",
      "2723832583\n",
      "2722633479\n",
      "2731554230\n",
      "2722441793\n",
      "2718993673\n",
      "2718837487\n",
      "2720879440\n",
      "2731906803\n",
      "2731261400\n",
      "2730123033\n",
      "2720880582\n",
      "2727599572\n",
      "2731126456\n",
      "2722457972\n",
      "2730136511\n",
      "2730837440\n",
      "2730648640\n",
      "2728576753\n",
      "2730675580\n",
      "2722760259\n",
      "2727667289\n",
      "2731851801\n",
      "2731888183\n",
      "2728375980\n",
      "2723385893\n",
      "2718951505\n",
      "2722009063\n",
      "2721555978\n",
      "2725979655\n",
      "2727659175\n",
      "2732055887\n",
      "2721498634\n",
      "2719935599\n",
      "2731537681\n",
      "2717865483\n",
      "2724169045\n",
      "2718479575\n",
      "2728405287\n",
      "2719977750\n",
      "2719963444\n",
      "2727591042\n",
      "2721665381\n",
      "2719060322\n",
      "2719123834\n",
      "2728224109\n",
      "2730616857\n",
      "2727640533\n",
      "2729195638\n",
      "2729230374\n",
      "2721627112\n",
      "2732037737\n",
      "2724215804\n",
      "2725600089\n",
      "2728722031\n",
      "2721577642\n",
      "2722694216\n",
      "2717541073\n",
      "2728032289\n",
      "2728557403\n",
      "2728641228\n",
      "2728410494\n",
      "2731540912\n"
     ]
    }
   ],
   "source": [
    "2708028008 in game_ids\n",
    "for v in matches:\n",
    "    print(v)\n"
   ]
  },
  {
   "cell_type": "code",
   "execution_count": null,
   "metadata": {
    "collapsed": true
   },
   "outputs": [],
   "source": []
  }
 ],
 "metadata": {
  "kernelspec": {
   "display_name": "Python 3",
   "language": "python",
   "name": "python3"
  },
  "language_info": {
   "codemirror_mode": {
    "name": "ipython",
    "version": 3
   },
   "file_extension": ".py",
   "mimetype": "text/x-python",
   "name": "python",
   "nbconvert_exporter": "python",
   "pygments_lexer": "ipython3",
   "version": "3.6.0"
  }
 },
 "nbformat": 4,
 "nbformat_minor": 2
}
