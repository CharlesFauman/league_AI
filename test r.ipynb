{
 "cells": [
  {
   "cell_type": "code",
   "execution_count": 27,
   "metadata": {
    "collapsed": true
   },
   "outputs": [],
   "source": [
    "import numpy as np\n",
    "import json\n",
    "import math\n",
    "import random\n",
    "import os\n",
    "import sys\n",
    "import pandas as pd "
   ]
  },
  {
   "cell_type": "code",
   "execution_count": 28,
   "metadata": {
    "collapsed": true
   },
   "outputs": [],
   "source": [
    "matches_filepath = \"matches.json\"\n",
    "matches = dict()\n",
    "try:\n",
    "    with open(matches_filepath, 'r') as file:\n",
    "            matches = json.load(file)\n",
    "except Exception as e:\n",
    "    print(e)\n",
    "    sys.exit()\n",
    "\n",
    "id_to_champ = {1: 'Annie', 2: 'Olaf', 3: 'Galio', 4: 'TwistedFate', 5: 'XinZhao', 6: 'Urgot', 7: 'Leblanc', 8: 'Vladimir', 9: 'Fiddlesticks', 10: 'Kayle', 11: 'MasterYi', 12: 'Alistar', 13: 'Ryze', 14: 'Sion', 15: 'Sivir', 16: 'Soraka', 17: 'Teemo', 18: 'Tristana', 19: 'Warwick', 20: 'Nunu', 21: 'MissFortune', 22: 'Ashe', 23: 'Tryndamere', 24: 'Jax', 25: 'Morgana', 26: 'Zilean', 27: 'Singed', 28: 'Evelynn', 29: 'Twitch', 30: 'Karthus', 31: 'Chogath', 32: 'Amumu', 33: 'Rammus', 34: 'Anivia', 35: 'Shaco', 36: 'DrMundo', 37: 'Sona', 38: 'Kassadin', 39: 'Irelia', 40: 'Janna', 41: 'Gangplank', 42: 'Corki', 43: 'Karma', 44: 'Taric', 45: 'Veigar', 48: 'Trundle', 50: 'Swain', 51: 'Caitlyn', 53: 'Blitzcrank', 54: 'Malphite', 55: 'Katarina', 56: 'Nocturne', 57: 'Maokai', 58: 'Renekton', 59: 'JarvanIV', 60: 'Elise', 61: 'Orianna', 62: 'MonkeyKing', 63: 'Brand', 64: 'LeeSin', 67: 'Vayne', 68: 'Rumble', 69: 'Cassiopeia', 72: 'Skarner', 74: 'Heimerdinger', 75: 'Nasus', 76: 'Nidalee', 77: 'Udyr', 78: 'Poppy', 79: 'Gragas', 80: 'Pantheon', 81: 'Ezreal', 82: 'Mordekaiser', 83: 'Yorick', 84: 'Akali', 85: 'Kennen', 86: 'Garen', 89: 'Leona', 90: 'Malzahar', 91: 'Talon', 92: 'Riven', 96: 'KogMaw', 98: 'Shen', 99: 'Lux', 101: 'Xerath', 102: 'Shyvana', 103: 'Ahri', 104: 'Graves', 105: 'Fizz', 106: 'Volibear', 107: 'Rengar', 110: 'Varus', 111: 'Nautilus', 112: 'Viktor', 113: 'Sejuani', 114: 'Fiora', 115: 'Ziggs', 117: 'Lulu', 119: 'Draven', 120: 'Hecarim', 121: 'Khazix', 122: 'Darius', 126: 'Jayce', 127: 'Lissandra', 131: 'Diana', 133: 'Quinn', 134: 'Syndra', 136: 'AurelionSol', 141: 'Kayn', 142: 'Zoe', 143: 'Zyra', 150: 'Gnar', 154: 'Zac', 157: 'Yasuo', 161: 'Velkoz', 163: 'Taliyah', 164: 'Camille', 201: 'Braum', 202: 'Jhin', 203: 'Kindred', 222: 'Jinx', 223: 'TahmKench', 236: 'Lucian', 238: 'Zed', 240: 'Kled', 245: 'Ekko', 254: 'Vi', 266: 'Aatrox', 267: 'Nami', 268: 'Azir', 412: 'Thresh', 420: 'Illaoi', 421: 'RekSai', 427: 'Ivern', 429: 'Kalista', 432: 'Bard', 497: 'Rakan', 498: 'Xayah', 516: 'Ornn'}\n",
    "\n",
    "champ_id_to_num = dict()\n",
    "for i, champ_id in enumerate(id_to_champ, 1):\n",
    "    champ_id_to_num[champ_id] = i-1\n",
    "num_champs = len(champ_id_to_num)\n",
    "\n",
    "champs_by_num = list()\n",
    "for value, champ in id_to_champ.items():\n",
    "    champs_by_num.append(champ)\n",
    "\n",
    "all_data = list()\n",
    "for match_id, match in matches.items():\n",
    "    win_team = np.zeros(num_champs)\n",
    "    lose_team = np.zeros(num_champs)\n",
    "    for player in match['win']:\n",
    "        win_team[champ_id_to_num[player['championId']]] = player['MMR']\n",
    "    for player in match['lose']:\n",
    "        lose_team[champ_id_to_num[player['championId']]] = player['MMR']\n",
    "    all_data.append(np.subtract(win_team,lose_team))\n",
    "\n",
    "random.seed(300)\n",
    "random.shuffle(all_data)\n",
    "\n",
    "all_data = np.vstack(all_data)\n",
    "\n",
    "ten_percent = math.ceil(len(all_data)/10)\n",
    "\n",
    "train_data = all_data[:-2*ten_percent]\n",
    "dev_data = all_data[-2*ten_percent:-ten_percent]\n",
    "test_data = all_data[-ten_percent:]"
   ]
  },
  {
   "cell_type": "code",
   "execution_count": 29,
   "metadata": {
    "collapsed": false
   },
   "outputs": [],
   "source": [
    "train_df = pd.DataFrame(train_data)\n",
    "train_df.to_csv(\"data/train_data_r.csv\", header = champs_by_num)\n",
    "\n",
    "dev_df = pd.DataFrame(dev_data)\n",
    "dev_df.to_csv(\"data/dev_data_r.csv\", header = champs_by_num)\n",
    "\n",
    "test_df = pd.DataFrame(test_data)\n",
    "test_df.to_csv(\"data/test_data_r.csv\", header = champs_by_num)"
   ]
  },
  {
   "cell_type": "code",
   "execution_count": null,
   "metadata": {
    "collapsed": true
   },
   "outputs": [],
   "source": []
  }
 ],
 "metadata": {
  "kernelspec": {
   "display_name": "Python 3",
   "language": "python",
   "name": "python3"
  },
  "language_info": {
   "codemirror_mode": {
    "name": "ipython",
    "version": 3
   },
   "file_extension": ".py",
   "mimetype": "text/x-python",
   "name": "python",
   "nbconvert_exporter": "python",
   "pygments_lexer": "ipython3",
   "version": "3.6.0"
  }
 },
 "nbformat": 4,
 "nbformat_minor": 2
}
